{
 "cells": [
  {
   "cell_type": "markdown",
   "id": "9efd20e1",
   "metadata": {},
   "source": [
    "# Notebook по изучению статистики\n",
    "По книге Statistics Fundamentals Succinctly\n",
    "By Katharine Alexis Kormanik"
   ]
  },
  {
   "cell_type": "markdown",
   "id": "f2fb03ca",
   "metadata": {},
   "source": [
    "### Импорт модулей"
   ]
  },
  {
   "cell_type": "code",
   "execution_count": 1,
   "id": "d90d9140",
   "metadata": {},
   "outputs": [],
   "source": [
    "import pandas as pd\n",
    "import seaborn as sns\n",
    "import math\n",
    "import random"
   ]
  },
  {
   "cell_type": "markdown",
   "id": "06a69dbd",
   "metadata": {},
   "source": [
    "### Загрузка датафрейма из .xlsx файла"
   ]
  },
  {
   "cell_type": "code",
   "execution_count": 2,
   "id": "8613822f",
   "metadata": {},
   "outputs": [
    {
     "data": {
      "text/html": [
       "<div>\n",
       "<style scoped>\n",
       "    .dataframe tbody tr th:only-of-type {\n",
       "        vertical-align: middle;\n",
       "    }\n",
       "\n",
       "    .dataframe tbody tr th {\n",
       "        vertical-align: top;\n",
       "    }\n",
       "\n",
       "    .dataframe thead th {\n",
       "        text-align: right;\n",
       "    }\n",
       "</style>\n",
       "<table border=\"1\" class=\"dataframe\">\n",
       "  <thead>\n",
       "    <tr style=\"text-align: right;\">\n",
       "      <th></th>\n",
       "      <th>gender</th>\n",
       "      <th>race</th>\n",
       "      <th>ses</th>\n",
       "      <th>test</th>\n",
       "      <th>homework</th>\n",
       "      <th>tv_games</th>\n",
       "      <th>work</th>\n",
       "      <th>grades</th>\n",
       "      <th>service</th>\n",
       "      <th>sports</th>\n",
       "      <th>music</th>\n",
       "      <th>student_gov</th>\n",
       "      <th>honor</th>\n",
       "      <th>journalism</th>\n",
       "      <th>vocation</th>\n",
       "      <th>income2011</th>\n",
       "    </tr>\n",
       "  </thead>\n",
       "  <tbody>\n",
       "    <tr>\n",
       "      <th>0</th>\n",
       "      <td>1</td>\n",
       "      <td>5</td>\n",
       "      <td>0.73</td>\n",
       "      <td>47.12</td>\n",
       "      <td>6</td>\n",
       "      <td>3</td>\n",
       "      <td>0</td>\n",
       "      <td>0</td>\n",
       "      <td>0</td>\n",
       "      <td>0</td>\n",
       "      <td>0</td>\n",
       "      <td>0</td>\n",
       "      <td>0</td>\n",
       "      <td>0</td>\n",
       "      <td>0</td>\n",
       "      <td>0</td>\n",
       "    </tr>\n",
       "    <tr>\n",
       "      <th>1</th>\n",
       "      <td>0</td>\n",
       "      <td>0</td>\n",
       "      <td>-0.26</td>\n",
       "      <td>44.62</td>\n",
       "      <td>5</td>\n",
       "      <td>7</td>\n",
       "      <td>0</td>\n",
       "      <td>0</td>\n",
       "      <td>0</td>\n",
       "      <td>0</td>\n",
       "      <td>0</td>\n",
       "      <td>0</td>\n",
       "      <td>0</td>\n",
       "      <td>0</td>\n",
       "      <td>0</td>\n",
       "      <td>0</td>\n",
       "    </tr>\n",
       "    <tr>\n",
       "      <th>2</th>\n",
       "      <td>1</td>\n",
       "      <td>0</td>\n",
       "      <td>-0.57</td>\n",
       "      <td>37.72</td>\n",
       "      <td>99</td>\n",
       "      <td>0</td>\n",
       "      <td>0</td>\n",
       "      <td>1</td>\n",
       "      <td>0</td>\n",
       "      <td>0</td>\n",
       "      <td>0</td>\n",
       "      <td>0</td>\n",
       "      <td>0</td>\n",
       "      <td>0</td>\n",
       "      <td>0</td>\n",
       "      <td>0</td>\n",
       "    </tr>\n",
       "    <tr>\n",
       "      <th>3</th>\n",
       "      <td>1</td>\n",
       "      <td>0</td>\n",
       "      <td>0.57</td>\n",
       "      <td>46.07</td>\n",
       "      <td>2</td>\n",
       "      <td>3</td>\n",
       "      <td>0</td>\n",
       "      <td>1</td>\n",
       "      <td>0</td>\n",
       "      <td>0</td>\n",
       "      <td>0</td>\n",
       "      <td>0</td>\n",
       "      <td>0</td>\n",
       "      <td>0</td>\n",
       "      <td>0</td>\n",
       "      <td>0</td>\n",
       "    </tr>\n",
       "    <tr>\n",
       "      <th>4</th>\n",
       "      <td>1</td>\n",
       "      <td>4</td>\n",
       "      <td>-0.50</td>\n",
       "      <td>36.66</td>\n",
       "      <td>3</td>\n",
       "      <td>3</td>\n",
       "      <td>0</td>\n",
       "      <td>1</td>\n",
       "      <td>0</td>\n",
       "      <td>0</td>\n",
       "      <td>0</td>\n",
       "      <td>0</td>\n",
       "      <td>0</td>\n",
       "      <td>0</td>\n",
       "      <td>0</td>\n",
       "      <td>0</td>\n",
       "    </tr>\n",
       "  </tbody>\n",
       "</table>\n",
       "</div>"
      ],
      "text/plain": [
       "   gender  race   ses   test  homework  tv_games  work  grades  service  \\\n",
       "0       1     5  0.73  47.12         6         3     0       0        0   \n",
       "1       0     0 -0.26  44.62         5         7     0       0        0   \n",
       "2       1     0 -0.57  37.72        99         0     0       1        0   \n",
       "3       1     0  0.57  46.07         2         3     0       1        0   \n",
       "4       1     4 -0.50  36.66         3         3     0       1        0   \n",
       "\n",
       "   sports  music  student_gov  honor  journalism  vocation  income2011  \n",
       "0       0      0            0      0           0         0           0  \n",
       "1       0      0            0      0           0         0           0  \n",
       "2       0      0            0      0           0         0           0  \n",
       "3       0      0            0      0           0         0           0  \n",
       "4       0      0            0      0           0         0           0  "
      ]
     },
     "execution_count": 2,
     "metadata": {},
     "output_type": "execute_result"
    }
   ],
   "source": [
    "df = pd.read_excel('ELS_2002.xlsx')\n",
    "df.head()"
   ]
  },
  {
   "cell_type": "code",
   "execution_count": 3,
   "id": "09519b70",
   "metadata": {},
   "outputs": [
    {
     "data": {
      "text/html": [
       "<div>\n",
       "<style scoped>\n",
       "    .dataframe tbody tr th:only-of-type {\n",
       "        vertical-align: middle;\n",
       "    }\n",
       "\n",
       "    .dataframe tbody tr th {\n",
       "        vertical-align: top;\n",
       "    }\n",
       "\n",
       "    .dataframe thead th {\n",
       "        text-align: right;\n",
       "    }\n",
       "</style>\n",
       "<table border=\"1\" class=\"dataframe\">\n",
       "  <thead>\n",
       "    <tr style=\"text-align: right;\">\n",
       "      <th></th>\n",
       "      <th>gender</th>\n",
       "      <th>race</th>\n",
       "      <th>ses</th>\n",
       "      <th>test</th>\n",
       "      <th>homework</th>\n",
       "      <th>tv_games</th>\n",
       "      <th>work</th>\n",
       "      <th>grades</th>\n",
       "      <th>service</th>\n",
       "      <th>sports</th>\n",
       "      <th>music</th>\n",
       "      <th>student_gov</th>\n",
       "      <th>honor</th>\n",
       "      <th>journalism</th>\n",
       "      <th>vocation</th>\n",
       "      <th>income2011</th>\n",
       "    </tr>\n",
       "  </thead>\n",
       "  <tbody>\n",
       "    <tr>\n",
       "      <th>count</th>\n",
       "      <td>7253.000000</td>\n",
       "      <td>7253.000000</td>\n",
       "      <td>7253.000000</td>\n",
       "      <td>7253.000000</td>\n",
       "      <td>7253.000000</td>\n",
       "      <td>7253.000000</td>\n",
       "      <td>7253.000000</td>\n",
       "      <td>7253.000000</td>\n",
       "      <td>7253.000000</td>\n",
       "      <td>7253.000000</td>\n",
       "      <td>7253.000000</td>\n",
       "      <td>7253.000000</td>\n",
       "      <td>7253.000000</td>\n",
       "      <td>7253.000000</td>\n",
       "      <td>7253.000000</td>\n",
       "      <td>7253.000000</td>\n",
       "    </tr>\n",
       "    <tr>\n",
       "      <th>mean</th>\n",
       "      <td>0.537019</td>\n",
       "      <td>1.275748</td>\n",
       "      <td>0.159629</td>\n",
       "      <td>53.431732</td>\n",
       "      <td>14.097201</td>\n",
       "      <td>3.384393</td>\n",
       "      <td>1.080932</td>\n",
       "      <td>4.332552</td>\n",
       "      <td>0.268579</td>\n",
       "      <td>0.233834</td>\n",
       "      <td>0.131532</td>\n",
       "      <td>0.083690</td>\n",
       "      <td>0.115676</td>\n",
       "      <td>0.085482</td>\n",
       "      <td>0.060389</td>\n",
       "      <td>28076.183648</td>\n",
       "    </tr>\n",
       "    <tr>\n",
       "      <th>std</th>\n",
       "      <td>0.498662</td>\n",
       "      <td>1.904523</td>\n",
       "      <td>0.729024</td>\n",
       "      <td>9.306769</td>\n",
       "      <td>19.651649</td>\n",
       "      <td>2.357064</td>\n",
       "      <td>1.826125</td>\n",
       "      <td>1.364180</td>\n",
       "      <td>0.443251</td>\n",
       "      <td>0.513929</td>\n",
       "      <td>0.338004</td>\n",
       "      <td>0.276941</td>\n",
       "      <td>0.319858</td>\n",
       "      <td>0.279617</td>\n",
       "      <td>0.238222</td>\n",
       "      <td>24684.658761</td>\n",
       "    </tr>\n",
       "    <tr>\n",
       "      <th>min</th>\n",
       "      <td>0.000000</td>\n",
       "      <td>0.000000</td>\n",
       "      <td>-1.970000</td>\n",
       "      <td>20.910000</td>\n",
       "      <td>0.000000</td>\n",
       "      <td>0.000000</td>\n",
       "      <td>0.000000</td>\n",
       "      <td>0.000000</td>\n",
       "      <td>0.000000</td>\n",
       "      <td>0.000000</td>\n",
       "      <td>0.000000</td>\n",
       "      <td>0.000000</td>\n",
       "      <td>0.000000</td>\n",
       "      <td>0.000000</td>\n",
       "      <td>0.000000</td>\n",
       "      <td>0.000000</td>\n",
       "    </tr>\n",
       "    <tr>\n",
       "      <th>25%</th>\n",
       "      <td>0.000000</td>\n",
       "      <td>0.000000</td>\n",
       "      <td>-0.370000</td>\n",
       "      <td>47.120000</td>\n",
       "      <td>4.000000</td>\n",
       "      <td>2.000000</td>\n",
       "      <td>0.000000</td>\n",
       "      <td>3.000000</td>\n",
       "      <td>0.000000</td>\n",
       "      <td>0.000000</td>\n",
       "      <td>0.000000</td>\n",
       "      <td>0.000000</td>\n",
       "      <td>0.000000</td>\n",
       "      <td>0.000000</td>\n",
       "      <td>0.000000</td>\n",
       "      <td>12000.000000</td>\n",
       "    </tr>\n",
       "    <tr>\n",
       "      <th>50%</th>\n",
       "      <td>1.000000</td>\n",
       "      <td>0.000000</td>\n",
       "      <td>0.170000</td>\n",
       "      <td>53.920000</td>\n",
       "      <td>9.000000</td>\n",
       "      <td>3.000000</td>\n",
       "      <td>0.000000</td>\n",
       "      <td>5.000000</td>\n",
       "      <td>0.000000</td>\n",
       "      <td>0.000000</td>\n",
       "      <td>0.000000</td>\n",
       "      <td>0.000000</td>\n",
       "      <td>0.000000</td>\n",
       "      <td>0.000000</td>\n",
       "      <td>0.000000</td>\n",
       "      <td>25000.000000</td>\n",
       "    </tr>\n",
       "    <tr>\n",
       "      <th>75%</th>\n",
       "      <td>1.000000</td>\n",
       "      <td>3.000000</td>\n",
       "      <td>0.720000</td>\n",
       "      <td>60.040000</td>\n",
       "      <td>15.000000</td>\n",
       "      <td>5.000000</td>\n",
       "      <td>2.000000</td>\n",
       "      <td>5.000000</td>\n",
       "      <td>1.000000</td>\n",
       "      <td>0.000000</td>\n",
       "      <td>0.000000</td>\n",
       "      <td>0.000000</td>\n",
       "      <td>0.000000</td>\n",
       "      <td>0.000000</td>\n",
       "      <td>0.000000</td>\n",
       "      <td>39000.000000</td>\n",
       "    </tr>\n",
       "    <tr>\n",
       "      <th>max</th>\n",
       "      <td>1.000000</td>\n",
       "      <td>6.000000</td>\n",
       "      <td>1.820000</td>\n",
       "      <td>81.040000</td>\n",
       "      <td>99.000000</td>\n",
       "      <td>8.000000</td>\n",
       "      <td>9.000000</td>\n",
       "      <td>6.000000</td>\n",
       "      <td>1.000000</td>\n",
       "      <td>2.000000</td>\n",
       "      <td>1.000000</td>\n",
       "      <td>1.000000</td>\n",
       "      <td>1.000000</td>\n",
       "      <td>1.000000</td>\n",
       "      <td>1.000000</td>\n",
       "      <td>250000.000000</td>\n",
       "    </tr>\n",
       "  </tbody>\n",
       "</table>\n",
       "</div>"
      ],
      "text/plain": [
       "            gender         race          ses         test     homework  \\\n",
       "count  7253.000000  7253.000000  7253.000000  7253.000000  7253.000000   \n",
       "mean      0.537019     1.275748     0.159629    53.431732    14.097201   \n",
       "std       0.498662     1.904523     0.729024     9.306769    19.651649   \n",
       "min       0.000000     0.000000    -1.970000    20.910000     0.000000   \n",
       "25%       0.000000     0.000000    -0.370000    47.120000     4.000000   \n",
       "50%       1.000000     0.000000     0.170000    53.920000     9.000000   \n",
       "75%       1.000000     3.000000     0.720000    60.040000    15.000000   \n",
       "max       1.000000     6.000000     1.820000    81.040000    99.000000   \n",
       "\n",
       "          tv_games         work       grades      service       sports  \\\n",
       "count  7253.000000  7253.000000  7253.000000  7253.000000  7253.000000   \n",
       "mean      3.384393     1.080932     4.332552     0.268579     0.233834   \n",
       "std       2.357064     1.826125     1.364180     0.443251     0.513929   \n",
       "min       0.000000     0.000000     0.000000     0.000000     0.000000   \n",
       "25%       2.000000     0.000000     3.000000     0.000000     0.000000   \n",
       "50%       3.000000     0.000000     5.000000     0.000000     0.000000   \n",
       "75%       5.000000     2.000000     5.000000     1.000000     0.000000   \n",
       "max       8.000000     9.000000     6.000000     1.000000     2.000000   \n",
       "\n",
       "             music  student_gov        honor   journalism     vocation  \\\n",
       "count  7253.000000  7253.000000  7253.000000  7253.000000  7253.000000   \n",
       "mean      0.131532     0.083690     0.115676     0.085482     0.060389   \n",
       "std       0.338004     0.276941     0.319858     0.279617     0.238222   \n",
       "min       0.000000     0.000000     0.000000     0.000000     0.000000   \n",
       "25%       0.000000     0.000000     0.000000     0.000000     0.000000   \n",
       "50%       0.000000     0.000000     0.000000     0.000000     0.000000   \n",
       "75%       0.000000     0.000000     0.000000     0.000000     0.000000   \n",
       "max       1.000000     1.000000     1.000000     1.000000     1.000000   \n",
       "\n",
       "          income2011  \n",
       "count    7253.000000  \n",
       "mean    28076.183648  \n",
       "std     24684.658761  \n",
       "min         0.000000  \n",
       "25%     12000.000000  \n",
       "50%     25000.000000  \n",
       "75%     39000.000000  \n",
       "max    250000.000000  "
      ]
     },
     "execution_count": 3,
     "metadata": {},
     "output_type": "execute_result"
    }
   ],
   "source": [
    "df.describe()"
   ]
  },
  {
   "cell_type": "markdown",
   "id": "9240d057",
   "metadata": {},
   "source": [
    "### Посмотрим на моду, медиану и среднее значение дохода"
   ]
  },
  {
   "cell_type": "code",
   "execution_count": 4,
   "id": "c7452a60",
   "metadata": {},
   "outputs": [
    {
     "data": {
      "text/plain": [
       "<AxesSubplot: xlabel='income2011', ylabel='Count'>"
      ]
     },
     "execution_count": 4,
     "metadata": {},
     "output_type": "execute_result"
    },
    {
     "data": {
      "image/png": "[encoded data removed]",
      "text/plain": [
       "<Figure size 640x480 with 1 Axes>"
      ]
     },
     "metadata": {},
     "output_type": "display_data"
    }
   ],
   "source": [
    "sns.histplot(df.income2011, binwidth=5000, kde=True)"
   ]
  },
  {
   "cell_type": "code",
   "execution_count": 5,
   "id": "1c32a88c",
   "metadata": {},
   "outputs": [
    {
     "data": {
      "text/plain": [
       "25000.0"
      ]
     },
     "execution_count": 5,
     "metadata": {},
     "output_type": "execute_result"
    }
   ],
   "source": [
    "df.income2011.median()"
   ]
  },
  {
   "cell_type": "code",
   "execution_count": 6,
   "id": "b0ae1b37",
   "metadata": {},
   "outputs": [
    {
     "data": {
      "text/plain": [
       "28076.183648145594"
      ]
     },
     "execution_count": 6,
     "metadata": {},
     "output_type": "execute_result"
    }
   ],
   "source": [
    "df.income2011.mean()"
   ]
  },
  {
   "cell_type": "markdown",
   "id": "afea8c86",
   "metadata": {},
   "source": [
    "### Посчитаем IQR для того же столбца и очистим его от выбросов\n"
   ]
  },
  {
   "cell_type": "code",
   "execution_count": 7,
   "id": "d30d842a",
   "metadata": {},
   "outputs": [],
   "source": [
    "Q1 = 12000\n",
    "Q3 = 39000\n",
    "IQR = Q3 - Q1\n",
    "lower_range = Q1 - 1.5 * IQR\n",
    "upper_range = Q3 + 1.5 * IQR\n",
    "income_filtered = df.income2011[df.income2011.agg(lambda l: l > lower_range and l < upper_range)]"
   ]
  },
  {
   "cell_type": "code",
   "execution_count": 8,
   "id": "c26538e3",
   "metadata": {},
   "outputs": [
    {
     "data": {
      "text/plain": [
       "<AxesSubplot: xlabel='income2011', ylabel='Count'>"
      ]
     },
     "execution_count": 8,
     "metadata": {},
     "output_type": "execute_result"
    },
    {
     "data": {
      "image/png": "[encoded data removed]",
      "text/plain": [
       "<Figure size 640x480 with 1 Axes>"
      ]
     },
     "metadata": {},
     "output_type": "display_data"
    }
   ],
   "source": [
    "sns.histplot(income_filtered, binwidth=5000, kde=True)"
   ]
  },
  {
   "cell_type": "markdown",
   "id": "167cf5ea",
   "metadata": {},
   "source": [
    "доход более 80000 был откинук как выбросы"
   ]
  },
  {
   "cell_type": "code",
   "execution_count": 9,
   "id": "567cafc1",
   "metadata": {},
   "outputs": [
    {
     "data": {
      "text/plain": [
       "25000.0"
      ]
     },
     "execution_count": 9,
     "metadata": {},
     "output_type": "execute_result"
    }
   ],
   "source": [
    "income_filtered.median()"
   ]
  },
  {
   "cell_type": "code",
   "execution_count": 10,
   "id": "8fdbbbf6",
   "metadata": {},
   "outputs": [
    {
     "data": {
      "text/plain": [
       "25548.12775017743"
      ]
     },
     "execution_count": 10,
     "metadata": {},
     "output_type": "execute_result"
    }
   ],
   "source": [
    "income_filtered.mean()"
   ]
  },
  {
   "cell_type": "markdown",
   "id": "0ae33fb3",
   "metadata": {},
   "source": [
    "После очистки среднее значение стало намного ближе к медиане"
   ]
  },
  {
   "cell_type": "markdown",
   "id": "18290e84",
   "metadata": {},
   "source": [
    "### Уберу студентов с нулевым годовым доходом"
   ]
  },
  {
   "cell_type": "code",
   "execution_count": 11,
   "id": "eee89845",
   "metadata": {},
   "outputs": [],
   "source": [
    "income = income_filtered[income_filtered.agg(lambda l: l != 0 and l != 100)]"
   ]
  },
  {
   "cell_type": "code",
   "execution_count": 12,
   "id": "02246b7d",
   "metadata": {},
   "outputs": [
    {
     "data": {
      "text/plain": [
       "<AxesSubplot: xlabel='income2011', ylabel='Count'>"
      ]
     },
     "execution_count": 12,
     "metadata": {},
     "output_type": "execute_result"
    },
    {
     "data": {
      "image/png": "[encoded data removed]",
      "text/plain": [
       "<Figure size 640x480 with 1 Axes>"
      ]
     },
     "metadata": {},
     "output_type": "display_data"
    }
   ],
   "source": [
    "sns.histplot(income, binwidth=5000, kde=True)"
   ]
  },
  {
   "cell_type": "markdown",
   "id": "7279de15",
   "metadata": {},
   "source": [
    "График начал напоминать нормальное распределение, но выглядит ассиметрично"
   ]
  },
  {
   "cell_type": "markdown",
   "id": "32080b40",
   "metadata": {},
   "source": [
    "## One sample Z-test"
   ]
  },
  {
   "cell_type": "markdown",
   "id": "78fdf640",
   "metadata": {},
   "source": [
    "Я хочу проверить утверждение о том что менее обеспеченые студенты учатся усерднее."
   ]
  },
  {
   "cell_type": "markdown",
   "id": "b0e354df",
   "metadata": {},
   "source": [
    "В качестве образца я возьму студентов учащихся на отлично и буду сравнивать их со всеми студентами."
   ]
  },
  {
   "cell_type": "markdown",
   "id": "069e1f56",
   "metadata": {},
   "source": [
    "### Найдем среднее значение дохода"
   ]
  },
  {
   "cell_type": "code",
   "execution_count": 13,
   "id": "a51853b4",
   "metadata": {},
   "outputs": [
    {
     "name": "stdout",
     "output_type": "stream",
     "text": [
      "28076.183648145594\n",
      "22685.365853658535\n"
     ]
    }
   ],
   "source": [
    "print(df.income2011.mean())\n",
    "\n",
    "a_students = df.income2011[df.grades == 1]\n",
    "print(a_students.mean())"
   ]
  },
  {
   "cell_type": "markdown",
   "id": "da867c62",
   "metadata": {},
   "source": [
    "### Найдем среднеквадратическое отклонение"
   ]
  },
  {
   "cell_type": "code",
   "execution_count": 24,
   "id": "3e6a8fb5",
   "metadata": {},
   "outputs": [],
   "source": [
    "def sd(arr):\n",
    "    m = arr.mean()\n",
    "    sqsum = ((arr - m)**2).sum()\n",
    "    return math.sqrt(sqsum / (len(arr) - 1))\n",
    "\n",
    "all_income_sd = sd(df.income2011)"
   ]
  },
  {
   "cell_type": "code",
   "execution_count": 27,
   "id": "425a54a3",
   "metadata": {},
   "outputs": [
    {
     "data": {
      "text/plain": [
       "-1.9775817770693722"
      ]
     },
     "execution_count": 27,
     "metadata": {},
     "output_type": "execute_result"
    }
   ],
   "source": [
    "z = (a_students.mean() - df.income2011.mean()) / (all_income_sd / math.sqrt(len(a_students)))\n",
    "z"
   ]
  },
  {
   "cell_type": "markdown",
   "id": "6973e96a",
   "metadata": {},
   "source": [
    "z = -2.8 означает, что с вероятностью в 99.97% отличники имеют меньший доход"
   ]
  },
  {
   "cell_type": "markdown",
   "id": "88744db4",
   "metadata": {},
   "source": [
    "### Проверка того, что код работает правильно\n",
    "Результат должен быть близким к нулю"
   ]
  },
  {
   "cell_type": "code",
   "execution_count": 23,
   "id": "d92045e8",
   "metadata": {},
   "outputs": [
    {
     "name": "stdout",
     "output_type": "stream",
     "text": [
      "28076.183648145594\n",
      "28111.588089330024\n",
      "1209\n",
      "All 24684.658760835864\n"
     ]
    },
    {
     "data": {
      "text/plain": [
       "0.04987050505289174"
      ]
     },
     "execution_count": 23,
     "metadata": {},
     "output_type": "execute_result"
    }
   ],
   "source": [
    "random_students = df.income2011[df.index % 6 == 3]\n",
    "\n",
    "z = (random_students.mean() - df.income2011.mean()) / (all_income_sd / math.sqrt(len(random_students)))\n",
    "z"
   ]
  },
  {
   "cell_type": "code",
   "execution_count": null,
   "id": "bf9d92e3",
   "metadata": {},
   "outputs": [],
   "source": []
  }
 ],
 "metadata": {
  "kernelspec": {
   "display_name": "Python 3 (ipykernel)",
   "language": "python",
   "name": "python3"
  },
  "language_info": {
   "codemirror_mode": {
    "name": "ipython",
    "version": 3
   },
   "file_extension": ".py",
   "mimetype": "text/x-python",
   "name": "python",
   "nbconvert_exporter": "python",
   "pygments_lexer": "ipython3",
   "version": "3.10.6"
  }
 },
 "nbformat": 4,
 "nbformat_minor": 5
}
